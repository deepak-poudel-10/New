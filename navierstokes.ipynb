{
  "nbformat": 4,
  "nbformat_minor": 0,
  "metadata": {
    "kernelspec": {
      "display_name": "Python 3",
      "language": "python",
      "name": "python3"
    },
    "language_info": {
      "codemirror_mode": {
        "name": "ipython",
        "version": 3
      },
      "file_extension": ".py",
      "mimetype": "text/x-python",
      "name": "python",
      "nbconvert_exporter": "python",
      "pygments_lexer": "ipython3",
      "version": "3.8.3"
    },
    "colab": {
      "name": "navierstokes.ipynb",
      "provenance": [],
      "include_colab_link": true
    }
  },
  "cells": [
    {
      "cell_type": "markdown",
      "metadata": {
        "id": "view-in-github",
        "colab_type": "text"
      },
      "source": [
        "<a href=\"https://colab.research.google.com/github/deepak-poudel-10/Portfolio/blob/master/navierstokes.ipynb\" target=\"_parent\"><img src=\"https://colab.research.google.com/assets/colab-badge.svg\" alt=\"Open In Colab\"/></a>"
      ]
    },
    {
      "cell_type": "markdown",
      "metadata": {
        "id": "GEFDhWqkvzuW"
      },
      "source": [
        "# Linear Convection <br>\n",
        "The 1-D Linear Convection equation is the simplest and the most accessible equation in CFD; from\n",
        "the Navier Stokes equation we kept only the accumulation and convection terms for the \n",
        "x-component of the velocity, to make things even simpler, the coefficient of the first derivative of \n",
        "the velocity is constant, making the equation linear. The equation is: \n",
        "        \n",
        "$$ \\frac{∂u}{∂t}+c\\frac{∂u}{∂x}=0 $$<br>\n",
        "With given initial conditions, this equation reperesents the propagation of that initial wave with\n",
        "speed c, without change of shape. Let the initial condition be   $ u(x,0)= u_0(x).$ Then the exact solution of the equation is <br>\n",
        "$$u(x,t) = u_0(x-ct).$$ <br>\n",
        "Now, we discretize this equation in both space and time, using the forward Difference Scheme for the tume derivative and the Backward Differentiation Scheme for space derivative. Consider discretizing the spatial coordinate x into points that we index from $i=0$ to N, and Stepping in discrete time intervals of size $ \\Delta{t}$. <br><p>\n",
        "From the definition of a derivative, we know that: <br>\n",
        "    $$\\frac{\\partial {u}}{\\partial{x}} \\approx \\frac{u(x+\\Delta{x})-(x)}{\\Delta{x}}$$<Br>\n",
        "    Then, our discrete equation is :<br>\n",
        "  $$\\frac{u_i^{n+1}-u_i^n}{\\Delta{t}} +c\\frac{u_i^n-u_{i-1}^n}{\\Delta{x}}=0$$\n",
        "    <br>\n",
        "    where, $n$ and $n+1$ are two consecutive steps in time, while $i-1$ and $i$ are two neighbouring points of the discretized $x$ coordinate. If there are given initial conditions, then the only unknown in this discretization is $u_i^{n+1}$. We can solve for our unknown to get an equation that allows us to advance in time, as follows: <br>\n",
        "    $u^{n+1}_i=u^n_i-c\\frac{Δt}{\\Δx}(u^n_i−u^n_{i−1})$ <br>\n",
        "Now, this will be implemented in Python"
      ]
    },
    {
      "cell_type": "code",
      "metadata": {
        "id": "gU6drshRvzuj"
      },
      "source": [
        "import numpy as np\n",
        "from matplotlib import pyplot\n",
        "import time, sys \n",
        "%matplotlib inline"
      ],
      "execution_count": null,
      "outputs": []
    },
    {
      "cell_type": "markdown",
      "metadata": {
        "id": "NPdwG21xvzul"
      },
      "source": [
        "Now we will define few new variables; first we will define an evenly spaced grid of points within a spatial domain that is 4 units of length wide, i.e., $x_i∈(0,4)$. We'll define a variable nx, which will be the number of grid points we want and dx will be the distance between any pair of adjacent grid points."
      ]
    },
    {
      "cell_type": "code",
      "metadata": {
        "id": "-ypFXlM3vzum"
      },
      "source": [
        "nx = 50                  # number of gridpoints\n",
        "dx=4/(nx-1)             # distance between adjacent pair of grid points\n",
        "nt= 30                  # number of time steps we want to calculate\n",
        "dt=.025                 # number of timesteps we want to calculate\n",
        "c=1                     # assuming the wavespeed of c=1"
      ],
      "execution_count": null,
      "outputs": []
    },
    {
      "cell_type": "markdown",
      "metadata": {
        "id": "3uc-QHsjvzun"
      },
      "source": [
        "Now, setting up the initial conditions.<br>\n",
        "The initial velocity $u_0=4$ in the interval $0.5\\le{x}\\le{1}$ and $u=1$ everywhere else in (0,4) (i.e., a hat function)."
      ]
    },
    {
      "cell_type": "code",
      "metadata": {
        "id": "FBHSP-gbvzun"
      },
      "source": [
        "u = np.ones(nx)\n",
        "u[int(.5/dx):int(1/dx+1)]=4 # setting u=2 between 0.5 and 1 \n",
        "print(u)"
      ],
      "execution_count": null,
      "outputs": []
    },
    {
      "cell_type": "code",
      "metadata": {
        "id": "cP7JrTFivzuo"
      },
      "source": [
        "pyplot.plot(np.linspace(0,2,nx),u);   #plotting the hat function"
      ],
      "execution_count": null,
      "outputs": []
    },
    {
      "cell_type": "markdown",
      "metadata": {
        "id": "pab5rTxKvzup"
      },
      "source": [
        "Now, we will implement the discretization of the convection equation using a finite difference scheme.\n",
        "For every element of our array u, we need to perform the operation<br>\n",
        "$$ u_i^{n+1} = u_i^n - c\\frac{Δt}{Δx}(u^n_i−u^n_{i−1})$$<p>\n",
        "    We will store the result in a new array u_new, which will be the solution $u$ for the next time-step. We will repeate this operation for as many as many time-steps as we specify and then we can see how fat the wave has convicted. \n",
        "    </p><p>\n",
        "    We first initialize our placeholder array u_new to hold the values we calculate from $n+1$ timestep, using once again the NumPy function ones().\n",
        "    <br><p>\n",
        "    Then, we will iterate through the u array using for loop\n",
        "    \n",
        "    "
      ]
    },
    {
      "cell_type": "code",
      "metadata": {
        "id": "WmRWdODKvzup"
      },
      "source": [
        "u_new =np.ones(nx)\n",
        "for n in range (nt):\n",
        "    u_new=u.copy()\n",
        "    for i in range (1,nx):\n",
        "        u[i]=u_new[i]-c*dt/dx*(u_new[i]-u_new[i-1])"
      ],
      "execution_count": null,
      "outputs": []
    },
    {
      "cell_type": "code",
      "metadata": {
        "id": "X8mxuh_Svzuq"
      },
      "source": [
        "pyplot.plot(np.linspace(0,4,nx),u);\n",
        "pyplot.ylabel('velocity')\n",
        "pyplot.xlabel('x')\n",
        "pyplot.title('Wave Profile after 30 iterations')\n"
      ],
      "execution_count": null,
      "outputs": []
    },
    {
      "cell_type": "code",
      "metadata": {
        "id": "61CyeTOnvzuq"
      },
      "source": [
        "u_new =np.ones(nx)\n",
        "for n in range (nt):\n",
        "    u_new=u.copy()\n",
        "    for i in range (1,nx):\n",
        "        u[i]=u_new[i]-c*dt/dx*(u_new[i]-u_new[i-1])\n",
        "    pyplot.plot(np.linspace(0,4,nx),u);\n",
        "    pyplot.ylabel('velocity')\n",
        "    pyplot.xlabel('x')\n",
        "    pyplot.title('all 30 iterations in the same plot')"
      ],
      "execution_count": null,
      "outputs": []
    },
    {
      "cell_type": "markdown",
      "metadata": {
        "id": "4xn7JKzYvzur"
      },
      "source": [
        "It is clear that the wave is travelling to the positive direction, with no change in shape; the height of the wave is changed untill the solution reaches convergence. <br>\n",
        "With the values "
      ]
    },
    {
      "cell_type": "markdown",
      "metadata": {
        "id": "3UvPfZA3vzur"
      },
      "source": [
        "# Nonlinear Convection <br>\n",
        "Now we will be implementing nonlinear convection using the same methods above. The one dimensional convection equation is: <br>\n",
        "$$ \\frac{∂u}{∂t}+u\\frac{∂u}{∂x}=0 $$<br><p>\n",
        "    Instead of a constant factor $c$ multiplying the second term, now we have the solution $u$ multiplying it. Thus, the second term of the equation is nonlinear now. We are going to use the same discretization as in above i.e. forward difference in time and backward difference in space. Here is the discretized equation.\n",
        "      $$\\frac{u_i^{n+1}-u_i^n}{\\Delta{t}} +u_i^n\\frac{u_i^n-u_{i-1}^n}{\\Delta{x}}=0$$\n",
        "    </p>\n",
        "    Solving for the only wuknown term, $u_i^{n+1}$, yields:\n",
        "    $$u^{n+1}_i=u^n_i-u_i^n\\frac{\\Delta{t}}{\\Delta{x}}(u^n_i−u^n_{i−1})$$\n",
        "    <br>\n",
        "    After this we start by importing necessary python libraries, then we declare some variables that determine the discretization in space and time. Then we create initial condition $u_0$ by initializing the array for the solution using $u=2$ and  0.5≤x≤1 and u=1 everywhere else in (0,2), which is a hat function.\n",
        "    "
      ]
    },
    {
      "cell_type": "code",
      "metadata": {
        "id": "CJAxcKWFvzus"
      },
      "source": [
        "import pylab as pl\n",
        "#pl.ion()\n",
        "\n",
        "D = 4.0\n",
        "T=2.0\n",
        "nx=201\n",
        "dx=D/(nx-1)\n",
        "grid = np.linspace(0,D,nx)\n",
        "nt=400\n",
        "dt=T/nt\n",
        "u=np.ones(nx)\n",
        "u[int(0.5/dx):int(1/dx+1)]=2.0\n",
        "un=np.ones(nx)\n",
        "for n in range (nt):\n",
        "    un = u.copy()\n",
        "    for i in range (1,nx):\n",
        "        u[i]=un[i]-un[i]*dt/dx*(un[i]-un[i-1])\n",
        "pl.plot(grid,u);\n",
        "pl.ylabel('velocity')\n",
        "pl.xlabel('x')\n",
        "pl.title('Wave Profile after 400 iterations')\n"
      ],
      "execution_count": null,
      "outputs": []
    },
    {
      "cell_type": "code",
      "metadata": {
        "id": "G7LD-apxvzut"
      },
      "source": [
        "import pylab as pl\n",
        "pl.ion()\n",
        "#\n",
        "D = 4.0\n",
        "T=2.0\n",
        "nx=201\n",
        "dx=D/(nx-1)\n",
        "grid = np.linspace(0,D,nx)\n",
        "nt=400\n",
        "dt=T/nt\n",
        "u=np.ones(nx)\n",
        "u[int(0.5/dx):int(1/dx+1)]=2.0\n",
        "un=np.ones(nx)\n",
        "for n in range (nt):\n",
        "    un = u.copy()\n",
        "    for i in range (1,nx):\n",
        "        u[i]=un[i]-un[i]*dt/dx*(un[i]-un[i-1])\n",
        "    pl.plot(grid,u)\n",
        "    pl.ylabel('velocity')\n",
        "    pl.xlabel('x')\n",
        "    pl.title('Wave Profile-all 400 iterations on the same plot')"
      ],
      "execution_count": null,
      "outputs": []
    },
    {
      "cell_type": "markdown",
      "metadata": {
        "id": "W8ZSPiwRvzut"
      },
      "source": [
        "Comparing the solution with that from the linear convection, the following obeservations can be made:<br>\n",
        "The wave has moved to the right, with a change in shape. Similarly, the height is decreased which is similar to the linear. Increasing the total time will make the scheme unstable if there are not enough time steps i.e. if the time step is increased the problem loose resolution. If the size of the element, dx, is decreased, so should the time step and it should also be noted that the timestep should be less than half of the grid cell size."
      ]
    },
    {
      "cell_type": "markdown",
      "metadata": {
        "id": "fGs-vOA1vzuu"
      },
      "source": [
        "# Diffusion Equation in 1-D<br>\n",
        "The one-dimentional diffusion equation is:<br>\n",
        "$$ \\frac{∂u}{∂t}=v\\frac{∂^2u}{∂x^2} $$<br>\n",
        "It is different that two previous equations in the sense that it involves second order derivative while the above two don't.\n",
        "\n",
        "<b> Discretizing </b> $\\frac{\\partial^2{u}}{\\partial{x^2}}$<br><p>\n",
        "    The Second Order Derivative can be represented geometrically as the line tangent to the curve given by the first derivative. We will discretize the second order dervative with a central difference scheme: a combination of Forward Difference and Backward Difference of the first derivative. Consider the taylor expansion of $u_{i+1}$ and $u_{i-1}$ around $u_i$:<br>\n",
        "$$u_{i+1}=u_i+Δx{\\frac{∂u}{∂x}}|_i+\\frac{Δx^2}{2}{\\frac{∂^2u}{∂x^2}}∣_i+\\frac{Δx^3}{3!}\\frac{∂^3u}{∂x^3}∣_i+O(Δx^4)$$\n",
        " \n",
        "$$u_{i-1}=u_i-Δx{\\frac{∂u}{∂x}}|_i+\\frac{Δx^2}{2}{\\frac{∂^2u}{∂x^2}}∣_i-\\frac{Δx^3}{3!}\\frac{∂^3u}{∂x^3}∣_i+O(Δx^4)$$ <br>\n",
        "    If we add therese two expansions,we can see that the odd numbered derivative terms will cancel eachother our. If we neglect any terms of $O(Δx^4)$ or higher, then we can arrange the sum of these two expansions to solve for our second-derivative.<br>\n",
        "    $$u_{i+1}+u_{i−1}=2u_i+Δx^2\\frac{∂^2u}{∂x^2}∣_i+O(Δx^4)$$ <br>\n",
        "    <br><n>\n",
        "    Rearranging and then solving for $\\frac{∂^2u}{∂x^2}∣_i$, we get:\n",
        "    <p>\n",
        "    $$\\frac{∂^2u}{∂x^2}∣_i=\\frac{u_{i+1}−2u_i+u_{i−1}}{Δx^2}+O(Δx^2)$$\n",
        "   <n> We can now write the discretized version of the diffusion equation in one dimension:<br>\n",
        "      $$\\frac{u^{n+1}_i−u^n_i}{Δt}=ν\\frac{u^n_{i+1}−2u^n_i+u^n_{i−1}}{Δx^2}$$\n",
        "      <n>\n",
        "      As before, we notice that we once we have an initial condition, the only unknown is$u^{n+1}_i$, so we re-arrange the equation solving for our unknown:<br>\n",
        "     $$u^{n+1}_i=u^n_i+ν\\frac{Δt}{Δx^2}(u^n_{i+1}−2u^n_i+u^n_{i−1})$$\n",
        "     <n>\n",
        "     The above discrete equation allows us to write a program to advance a solution in time. But we need an initial condition.Let's continue using the hat function, so at t=0, u=2 in the interval $0.5≤x≤1 $and $u=1$ everywhere else.</n><br>\n",
        "    <n> <br><b>Note:</b>\n",
        "     Now here, we use only the diffusion term from the Navier-Stokes equation to determine the velocity. The difusion term is the second order derivative multiplied by the diffusive coefficient , which in this case is the viscosity.</n>"
      ]
    },
    {
      "cell_type": "code",
      "metadata": {
        "id": "NkQeS9oZvzuw"
      },
      "source": [
        "import numpy as np\n",
        "import pylab as pl\n",
        "pl.ion()\n",
        "D=2.0\n",
        "nx=41 \n",
        "dx = D/(nx-1)\n",
        "grid = np.linspace(0,D,nx)\n",
        "nt=100        # number od timesteps we want to calculate (iterations)\n",
        "nu=0.3     # the value of viscosity\n",
        "sigma =0.2        # parameter, which is releated to Courant nu,ber\n",
        "dt = sigma*dx**2/nu     # the duration of each time step\n",
        "u = np.ones(nx)       # initializing the matrix for velocities\n",
        "u[int(.5/dx) :int( 1/dx+1)] = 2 # input of initial conditions\n",
        "pl.figure(figsize = (11,7), dpi = 100)\n",
        "pl.plot(grid, u)\n",
        "u_new = np.ones(nx)          # placeholder for velocity of the current time step\n",
        "for n in range (nt):     # loop for time iteration\n",
        "    u_new = u.copy()       #copy the current values of velocity for each step \n",
        "    for i in range (1, nx-1):\n",
        "        u[i]=u_new[i] + nu*dt/dx**2*(u_new[i+1] - 2*u_new[i] + u_new[i-1])\n",
        "    pl.plot(grid,u)\n",
        "    pl.ylim([1.,2.2])\n",
        "    pl.xlabel('X')\n",
        "    pl.ylabel('velocity')\n",
        "    pl.title(\"1D diffusion plot for every iteration\")\n",
        "   "
      ],
      "execution_count": null,
      "outputs": []
    },
    {
      "cell_type": "code",
      "metadata": {
        "id": "VOr_KZaPvzux"
      },
      "source": [
        "import numpy as np\n",
        "import pylab as pl\n",
        "pl.ion()\n",
        "D=2.0\n",
        "nx=41 \n",
        "dx = D/(nx-1)\n",
        "grid = np.linspace(0,D,nx)\n",
        "nt=100        # number od timesteps we want to calculate (iterations)\n",
        "nu=0.3     # the value of viscosity\n",
        "sigma =0.2        # parameter, which is releated to Courant nu,ber\n",
        "dt = sigma*dx**2/nu     # the duration of each time step\n",
        "u = np.ones(nx)       # initializing the matrix for velocities\n",
        "u[int(.5/dx) :int( 1/dx+1)] = 2 # input of initial conditions\n",
        "pl.figure(figsize = (11,7), dpi = 100)\n",
        "pl.plot(grid, u)\n",
        "u_new = np.ones(nx)          # placeholder for velocity of the current time step\n",
        "for n in range (nt):     # loop for time iteration\n",
        "    u_new = u.copy()       #copy the current values of velocity for each step \n",
        "    for i in range (1, nx-1):\n",
        "        u[i]=u_new[i] + nu*dt/dx**2*(u_new[i+1] - 2*u_new[i] + u_new[i-1])\n",
        "pl.plot(grid,u)\n",
        "pl.ylim([1.,2.2])\n",
        "pl.xlabel('X')\n",
        "pl.ylabel('velocity')\n",
        "pl.title(\"1D diffusion plot after final iteration\")"
      ],
      "execution_count": null,
      "outputs": []
    },
    {
      "cell_type": "markdown",
      "metadata": {
        "id": "8P7BGzOBvzuy"
      },
      "source": [
        "<b> Discussion</b>\n",
        "<br>\n",
        "Blue graph in the figure represents the initial condition and the orange color represents the solution. As it can be seen that the wave is stationary and the amplitude is decaying, influencing the velocity of neighbouring cells.The physical reason for diffusion is the chaotic movement of the fluid particles. The Courant number is used here to calculate the time step. After running the program it can be seen that the wave does not move along the x axis, but the profile changes in a way that the velocitie between 0.5 and 1 are decreasing and the velocities in the vicinities are increasing. Given, the more time for diffusion, the velocities are reducing even more."
      ]
    },
    {
      "cell_type": "markdown",
      "metadata": {
        "id": "OFAa4jTGvzuz"
      },
      "source": [
        "# Burger's Equation <br>\n",
        "Burger's Equation in one spatial dimension is given as:<br>\n",
        "$$\\frac{∂u}{∂t}+u\\frac{∂u}{∂x}=ν\\frac{∂^2u}{∂x^2}$$\n",
        "<br>\n",
        "It is the combination of non-linear convection and diffusion. \n",
        "<n>\n",
        "    We can discretize it using the methods we have already detailed above. Using forward difference for time, backward difference for space and our second order method for the second derivative yields: <br>\n",
        "    $$\\frac{u^{n+1}_i−u^n_i}{Δt}+u^n_i\\frac{u^n_i−u^n_{i−1}}{Δx}=ν\\frac{u^n_{i+1}−2u^n_i+u^n_{i−1}}{Δx^2}$$\n",
        "    <br>\n",
        "    After putting the initial conditions, the only unknown in the above equation will be $u^{n+1}_i$. And we will step in time as follows:\n",
        "    <br>\n",
        "    $$u^{n+1}_i=u^n_i−u^n_i\\frac{Δt}{Δx}(u^n_i−u^n_{i−1})+ν\\frac{Δt}{Δx^2}(u^n_{i+1}−2u^n_i+u^n_{i−1})$$\n",
        "    <br>\n",
        "    <b> Initial and Boundary Conditions</b><br>\n",
        "    To examine some interesting properties of Burger's equation, it is helpful to use different initial and boundary conditions than we have been using for above steps. \n",
        "    <n>\n",
        "       Our initial condition for this problem will be: <br>\n",
        "        $$ u=−\\frac{2ν}{ϕ}\\frac{∂ϕ}{∂x}+4\\qquad(1)$$<br>\n",
        "       $$ϕ= exp(\\frac{-x^2}{4ν})+exp(\\frac{−(x−2π)^2}{4ν})\\qquad(2)$$<br>\n",
        "        This has an analytical solution, given by:<br>\n",
        "         $$ u=−\\frac{2ν}{ϕ}\\frac{∂ϕ}{∂x}+4\\qquad(3)$$<br>\n",
        "        $$ϕ= exp(\\frac{-(x-4t)^2}{4ν(t+1)})+exp(\\frac{−(x−4t-2π)^2}{4ν(t+1)})\\qquad(4)$$<br>\n",
        "        Our boundary condition will be: <br>\n",
        "        $$u(0)=u(2π)$$\n",
        "        <br>\n",
        "        This is called periodic boundary condition."
      ]
    },
    {
      "cell_type": "code",
      "metadata": {
        "id": "n5tWqjXYvzu1"
      },
      "source": [
        "import sympy as sp\n",
        "import numpy as np\n",
        "import pylab as pl\n",
        "pl.ion()\n",
        "\n",
        "#Setting up symbolic variables\n",
        "x,nu,t=sp.symbols('x nu t')\n",
        "phi = (sp.exp(-(x - 4 * t)**2 /(4 * nu * (t + 1))) +sp.exp(-(x - 4 * t - 2 * sp.pi)**2 \n",
        "                                                           / (4 * nu * (t + 1))))\n",
        "phi\n",
        "        "
      ],
      "execution_count": null,
      "outputs": []
    },
    {
      "cell_type": "code",
      "metadata": {
        "id": "GCgLyY0Avzu1"
      },
      "source": [
        "phiprime = phi.diff(x)\n",
        "phiprime"
      ],
      "execution_count": null,
      "outputs": []
    },
    {
      "cell_type": "code",
      "metadata": {
        "id": "_vrr3RWMvzu2"
      },
      "source": [
        "from sympy.utilities.lambdify import lambdify\n",
        "\n",
        "u = -2 * nu * (phiprime / phi) + 4\n",
        "print(u)"
      ],
      "execution_count": null,
      "outputs": []
    },
    {
      "cell_type": "markdown",
      "metadata": {
        "id": "a6TMrdFPvzu2"
      },
      "source": [
        "<b> Lambdify</b>\n",
        "To lambdify this expression in to a usable function, we tell lambdify which variables to request and the function we want to plug them into.\n"
      ]
    },
    {
      "cell_type": "code",
      "metadata": {
        "id": "_S-uRLCcvzu2"
      },
      "source": [
        "ufunc = lambdify((t, x, nu), u) # transform the symbolic equation into a function using lambdify\n",
        "print(ufunc(1, 4, 3))"
      ],
      "execution_count": null,
      "outputs": []
    },
    {
      "cell_type": "code",
      "metadata": {
        "id": "7uFz4c78vzu3"
      },
      "source": [
        "# Variables declaration\n",
        "nx = 101 # number of nodes in the domain\n",
        "nt = 100 # number of time steps\n",
        "dx = 2*np.pi/(nx-1) # dimension of one element/cell\n",
        "nu = 0.07 # viscosity\n",
        "dt = dx*nu # the timestep is defined based on the cell dimension\n",
        "T = nt*dt # total time of the simulation\n",
        "\n",
        "grid = np.linspace(0, 2*np.pi, nx) # generating the all grid points\n",
        "un = np.empty(nx) # just for array creation\n",
        "t = 0\n",
        "\n",
        "# Initializing the velocity function\n",
        "u = np.asarray([ufunc(t, x, nu) for x in grid])\n",
        "#print u\n",
        "u"
      ],
      "execution_count": null,
      "outputs": []
    },
    {
      "cell_type": "code",
      "metadata": {
        "id": "31Yw4gCCvzu3",
        "outputId": "141d0fb1-6b19-4c76-9a6e-7bad84b08696"
      },
      "source": [
        "# Make a plot of the initial condition\n",
        "pl.figure(figsize=(11,7),dpi=100);\n",
        "pl.plot(grid,u,marker='o',lw=2)\n",
        "pl.xlim([0,2*np.pi])\n",
        "pl.ylim([0,10])\n",
        "pl.xlabel('X')\n",
        "pl.ylabel(\"Velocity\")\n",
        "pl.title('1D Burgers Equation- Initial Condition')"
      ],
      "execution_count": null,
      "outputs": [
        {
          "output_type": "execute_result",
          "data": {
            "text/plain": [
              "Text(0.5, 1.0, '1D Burgers Equation- Initial Condition')"
            ]
          },
          "metadata": {
            "tags": []
          },
          "execution_count": 6
        },
        {
          "output_type": "display_data",
          "data": {
            "image/png": "[encoded data removed]",
            "text/plain": [
              "<Figure size 1100x700 with 1 Axes>"
            ]
          },
          "metadata": {
            "tags": [],
            "needs_background": "light"
          }
        }
      ]
    },
    {
      "cell_type": "markdown",
      "metadata": {
        "id": "w-D9jYDGvzu5"
      },
      "source": [
        "This is definately not the hat function we've been dealing with untill now. We call it a ''saw-tooth function'', where we can see the initial conditions.<br>\n",
        "<b> Periodic Boundary COnditions</b>\n",
        "<br>\n",
        "And finally, the solution after 100 time steps; a comparison between the analytical and the numerical solution is done. The saw tooth function used as initial condition is basically a periodic wave profile; applying the scheme for convection and diffusion in time makes the profile move in the domain; a change in shape is observed both in the numerical and analytical solutions. <br>\n"
      ]
    },
    {
      "cell_type": "code",
      "metadata": {
        "id": "OKAZOJIKvzu6",
        "outputId": "c7c8a1e9-3171-440f-f263-51c4664578ef"
      },
      "source": [
        "# Applying the scheme with periodic boundary conditions in mind \n",
        "for n in range(nt):\n",
        "    un = u.copy()\n",
        "    for i in range(1, nx-1):\n",
        "        u[i] = un[i] - un[i] * dt / dx *(un[i] - un[i-1]) + nu * dt / dx**2 *\\\n",
        "                (un[i+1] - 2 * un[i] + un[i-1])\n",
        "    u[0] = un[0] - un[0] * dt / dx * (un[0] - un[-2]) + nu * dt / dx**2 *\\\n",
        "                (un[1] - 2 * un[0] + un[-2])\n",
        "    u[-1] = u[0]\n",
        "        \n",
        "u_analytic = np.asarray([ufunc(T, xi, nu) for xi in grid])\n",
        " \n",
        "    \n",
        "    \n",
        "    #Make a plot in which both solutions are plotted\n",
        "pl.figure(figsize=(11,7), dpi=100)\n",
        "pl.plot(grid, u, marker='o', lw=2, label='Computational')\n",
        "pl.plot(grid, u_analytic, label='Analytical')\n",
        "pl.xlim([0, 2*np.pi])\n",
        "pl.ylim([0,10])\n",
        "pl.legend();\n",
        "pl.xlabel('X')\n",
        "pl.ylabel('Velocity') \n",
        "pl.title('1D Burgers Equation - Solutions')\n",
        "        "
      ],
      "execution_count": null,
      "outputs": [
        {
          "output_type": "execute_result",
          "data": {
            "text/plain": [
              "Text(0.5, 1.0, '1D Burgers Equation - Solutions')"
            ]
          },
          "metadata": {
            "tags": []
          },
          "execution_count": 7
        },
        {
          "output_type": "display_data",
          "data": {
            "image/png": "[encoded data removed]",
            "text/plain": [
              "<Figure size 1100x700 with 1 Axes>"
            ]
          },
          "metadata": {
            "tags": [],
            "needs_background": "light"
          }
        }
      ]
    },
    {
      "cell_type": "markdown",
      "metadata": {
        "id": "9DwQJUJlvzu6"
      },
      "source": [
        "Now we will extend the above steps in to 2D. To extend the 1D finite difference formulas to partial derivatives in 2D or 3D, just apply the definition: a partial derivative with respect to x in the variation in the x direction at constant y. <br>\n",
        "In 2D soace, a rectangular (uniform) grid is defined by the points with coordinates: <br>\n",
        "$$x_i=x_0+iΔx$$\n",
        "$$y_i=y_0+iΔy$$<br>\n",
        "Now, define $u_{i,j}=u(x_i,y_j)$ and apply the finite-difference formulas on either variable $x,y$ acting separately on the<i> i</i> and <i>j</i> indices. All derivatives are based on the 2D Taylor expansion of a mesh point value around $u_{i,j}$. <br>\n",
        "Hence, for a first-order partial derivative in the x-direction, a finite-difference formula is:<br>\n",
        "$$\\frac{∂u}{∂x}∣_{i,j}=\\frac {u_{i+1,j}−u_{i,j}}{Δx}+O(Δx)$$\n",
        "<br>\n",
        "# Linear convection\n",
        "<br>\n",
        "The partial differential equation governing 2-D Linear Convection is written as: <br>\n",
        "$$\\frac{∂u}{∂t}+c\\frac {∂u}{∂x}+c\\frac{∂u}{∂y}=0$$ <br>\n",
        "This is the exact same form as with 1-D Linear Convection, except that we now have two spatial dimensions to account for as we step forward in time.<br>\n",
        "Again, the timesteps will be discretized as a forward difference and both spatial steps will be discretized as backward differences. <br>\n",
        "With 1-D implementations, we used <i>i</i> subscripts to denote movement in space (e.g. $$u^n_i-u^n_{i-1}$$. Now that we have two dimensions to account for, we need to add a second subscript, <i>j</i>, to account for all the information in the regime.<br>\n",
        "Here,we will again use <i>i</i> as the index for our <i>x</i> values, and we'll add the <i>j</i> subscript to track our <i>y</i> values. <br>\n",
        "Now, our discretization of the PDE is given as : <br>\n",
        "$$\\frac{u^{n+1}_{i,j}−u^n_{i,j}}{Δt}+c\\frac {u^n_{i,j}−u^n_{i−1,j}}{Δx}+c\\frac{u^n_{i,j}−u^n_{i,j−1}}{Δy}=0 $$<br>\n",
        "Now, we will solve for the only unknown <br>\n",
        "$$u^{n+1}_{i,j}=u^n_{i,j}−c\\frac{Δt}{Δx}(u^n_{i,j}−u^n_{i−1,j})−c\\frac{Δt}{Δy}(u^n_{i,j}−u^n{i,j−1})$$<br>\n",
        "We will solve this equation witn the following initial conditions.\n",
        " "
      ]
    },
    {
      "cell_type": "code",
      "metadata": {
        "id": "3-FKPUW2vzu7"
      },
      "source": [
        ""
      ],
      "execution_count": null,
      "outputs": []
    },
    {
      "cell_type": "code",
      "metadata": {
        "id": "OA3fDG4Ivzu7"
      },
      "source": [
        "\n"
      ],
      "execution_count": null,
      "outputs": []
    },
    {
      "cell_type": "code",
      "metadata": {
        "id": "D25F5ZB2vzu7"
      },
      "source": [
        ""
      ],
      "execution_count": null,
      "outputs": []
    },
    {
      "cell_type": "code",
      "metadata": {
        "id": "8ECe_yqDvzu7"
      },
      "source": [
        ""
      ],
      "execution_count": null,
      "outputs": []
    }
  ]
}