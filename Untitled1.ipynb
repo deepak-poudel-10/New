{
 "cells": [
  {
   "cell_type": "code",
   "execution_count": 12,
   "metadata": {},
   "outputs": [],
   "source": [
    "import numpy as np\n",
    "import h5py\n",
    "import matplotlib.pyplot as plt\n",
    "import scipy \n",
    "from PIL import Image \n",
    "from scipy import ndimage\n",
    "\n",
    "%matplotlib inline \n",
    "plt.rcParams['figure.figsize'] = (5.0,4.0)\n",
    "plt.rcParams['image.interpolation']='nearest'\n",
    "plt.rcParams['image.cmap']='gray'\n",
    "\n",
    "%load_ext autoreload\n",
    "%autoreload 2\n",
    "np.random.seed (1)\n"
   ]
  },
  {
   "cell_type": "code",
   "execution_count": 13,
   "metadata": {},
   "outputs": [],
   "source": [
    "# function for loading the data ie (cat vs not_cat)\n",
    "def load_dataset():\n",
    "    train_dataset = h5py.File('train_catvnoncat.h5', \"r\")\n",
    "    train_set_x_orig = np.array(train_dataset[\"train_set_x\"][:]) # your train set features\n",
    "    train_set_y_orig = np.array(train_dataset[\"train_set_y\"][:]) # your train set labels\n",
    "\n",
    "    test_dataset = h5py.File('test_catvnoncat.h5', \"r\")\n",
    "    test_set_x_orig = np.array(test_dataset[\"test_set_x\"][:]) # your test set features\n",
    "    test_set_y_orig = np.array(test_dataset[\"test_set_y\"][:]) # your test set labels\n",
    "\n",
    "    classes = np.array(test_dataset[\"list_classes\"][:]) # the list of classes\n",
    "    \n",
    "    train_set_y_orig = train_set_y_orig.reshape((1, train_set_y_orig.shape[0]))\n",
    "    test_set_y_orig = test_set_y_orig.reshape((1, test_set_y_orig.shape[0]))\n",
    "    \n",
    "    return train_set_x_orig, train_set_y_orig, test_set_x_orig, test_set_y_orig, classes"
   ]
  },
  {
   "cell_type": "code",
   "execution_count": 14,
   "metadata": {},
   "outputs": [],
   "source": [
    "train_set_x_orig,train_set_y,test_set_x_orig,test_set_y,classes=load_dataset()"
   ]
  },
  {
   "cell_type": "code",
   "execution_count": 15,
   "metadata": {},
   "outputs": [
    {
     "name": "stdout",
     "output_type": "stream",
     "text": [
      "y=[0]\n"
     ]
    },
    {
     "data": {
      "image/png": "[encoded data removed]",
      "text/plain": [
       "<Figure size 360x288 with 1 Axes>"
      ]
     },
     "metadata": {
      "needs_background": "light"
     },
     "output_type": "display_data"
    }
   ],
   "source": [
    "index=22\n",
    "plt.imshow(train_set_x_orig[index])\n",
    "print('y='+str(train_set_y[:,index]))"
   ]
  },
  {
   "cell_type": "code",
   "execution_count": 16,
   "metadata": {},
   "outputs": [
    {
     "data": {
      "text/plain": [
       "(209, 64, 64, 3)"
      ]
     },
     "execution_count": 16,
     "metadata": {},
     "output_type": "execute_result"
    }
   ],
   "source": [
    "train_set_x_orig.shape"
   ]
  },
  {
   "cell_type": "markdown",
   "metadata": {},
   "source": [
    "Now, we will explore our dataset and will try to get more insight of it "
   ]
  },
  {
   "cell_type": "code",
   "execution_count": 17,
   "metadata": {},
   "outputs": [
    {
     "name": "stdout",
     "output_type": "stream",
     "text": [
      "The number of training images is = 209\n",
      "The number of test images is = 50\n",
      "The height/width of each image is = 64\n",
      "train_set_x_shape is = (209, 64, 64, 3)\n",
      "train_set_y shape is = (1, 209)\n",
      "test_set_x_shape is = (50, 64, 64, 3)\n",
      "test_set_y_shape is = (1, 50)\n"
     ]
    }
   ],
   "source": [
    "n_train = train_set_x_orig.shape[0]\n",
    "n_px = train_set_x_orig.shape[1]\n",
    "n_test=test_set_x_orig.shape[0]\n",
    "\n",
    "print('The number of training images is =', n_train)\n",
    "print('The number of test images is =', n_test)\n",
    "print('The height/width of each image is =', n_px)\n",
    "print('train_set_x_shape is =', train_set_x_orig.shape)\n",
    "print('train_set_y shape is =',train_set_y.shape)\n",
    "print('test_set_x_shape is =',test_set_x_orig.shape)\n",
    "print('test_set_y_shape is =',test_set_y.shape)\n"
   ]
  },
  {
   "cell_type": "code",
   "execution_count": 18,
   "metadata": {},
   "outputs": [],
   "source": [
    "# reshaping of the train and test datasets\n",
    "train_set_x_flatten = train_set_x_orig.reshape (train_set_x_orig.shape[0],-1).T\n",
    "test_set_x_flatten =test_set_x_orig.reshape (test_set_x_orig.shape[0],-1).T"
   ]
  },
  {
   "cell_type": "code",
   "execution_count": 19,
   "metadata": {},
   "outputs": [
    {
     "name": "stdout",
     "output_type": "stream",
     "text": [
      "The shape of training data set is(12288, 209)\n",
      "The shape of test data set is(12288, 50)\n"
     ]
    }
   ],
   "source": [
    "\n",
    "#standardising the data by dividing each values with 255(ie.highest pixel value) to have features in between 0 and 1 \n",
    "train_set_x = train_set_x_flatten/255\n",
    "test_set_x = test_set_x_flatten/255\n",
    "print (\"The shape of training data set is\"+ str(train_set_x.shape))\n",
    "print (\"The shape of test data set is\"+ str(test_set_x.shape))"
   ]
  },
  {
   "cell_type": "markdown",
   "metadata": {},
   "source": [
    "# two layer neural network <br>\n",
    "The model's structure is : LINEAR----> RELU -----> LINEAR----->SIGMOID <br>\n",
    "Now,we will initialize the parameters w1 (weight matrix of shape (n_h,n_x)), b1 (bias vector of shape (n_h,1)), w2 (weight matrix of shape (n_y,n_h)) and b2 (bias vector of shape (n_y,1))<br>\n",
    "where, <br>\n",
    "n_x: size of the input layer<br>\n",
    "n_h: size of the hidden layer<br>\n",
    "n_y: size of the output layer<br>\n"
   ]
  },
  {
   "cell_type": "code",
   "execution_count": 34,
   "metadata": {},
   "outputs": [],
   "source": [
    "# initialize parameters function \n",
    "def initialize_parameters (n_x,n_h,n_y):\n",
    "    np.random.seed(1)\n",
    "    W1=np.random.randn(n_h,n_x)*0.01\n",
    "    b1=np.zeros((n_h,1))\n",
    "    W2=np.random.randn(n_y,n_h)*0.01\n",
    "    b2=np.zeros((n_y,1))\n",
    "    \n",
    "    assert(W1.shape == (n_h, n_x))\n",
    "    assert(b1.shape == (n_h, 1))\n",
    "    assert(W2.shape == (n_y, n_h))\n",
    "    assert(b2.shape == (n_y, 1))\n",
    "    \n",
    "    parameters = {\"W1\": W1,\n",
    "                  \"b1\": b1,\n",
    "                  \"W2\": W2,\n",
    "                  \"b2\": b2}\n",
    "    \n",
    "    return parameters"
   ]
  },
  {
   "cell_type": "markdown",
   "metadata": {},
   "source": [
    "# for L layer neural network <br>\n",
    "Argument of the function will be layer_dims (python array ( list) containing the dimensions of each layer in our network) and return values wull be python dictionary containing the parameters 'w1','b1',...,'wL','bL'"
   ]
  },
  {
   "cell_type": "code",
   "execution_count": 35,
   "metadata": {},
   "outputs": [],
   "source": [
    "def initialize_parameters_deep (layer_dims):\n",
    "    np.random.seed(1)\n",
    "    parameters={}\n",
    "    \n",
    "    L=len(layer_dims)\n",
    "    for l in range (1,L):\n",
    "        parameters['W'+str(l)]=np.random.randn(layer_dims[l],layer_dims[l-1])*0.01\n",
    "        parameters['b'+str(l)]=np.zeros((layer_dims[l],1))\n",
    "        \n",
    "        assert(parameters['W' + str(l)].shape == (layer_dims[l], layer_dims[l-1]))\n",
    "        assert(parameters['b' + str(l)].shape == (layer_dims[l], 1))\n",
    "\n",
    "        \n",
    "    return parameters"
   ]
  },
  {
   "cell_type": "markdown",
   "metadata": {},
   "source": [
    "Now after the initialization of our parameters we will do forward propagation module. The input or arguments for the function will be A ( activation from previous layer: ( size of previous layer, number of examples)), W ( weights matrix: numpy array of shape (size of current layer, size of previous layer), b ( bias vector, numpy array of shape (size of current layer,1). Similarly, return value of the function is Z ( the input of the actiuvation function, also called as pre activation parameter) and cache (a python tuple containing \"A\", \"W\" and \"b\" which are stored for computing the backward pass efficiently)"
   ]
  },
  {
   "cell_type": "code",
   "execution_count": 36,
   "metadata": {},
   "outputs": [],
   "source": [
    "def linear_forward (A,W,b):\n",
    "    Z=np.dot (W,A) + b\n",
    "    assert(Z.shape == (W.shape[0], A.shape[1]))\n",
    "    cache = (A, W, b)\n",
    "    \n",
    "    return Z, cache\n",
    "    \n",
    "    \n",
    "    "
   ]
  },
  {
   "cell_type": "code",
   "execution_count": 37,
   "metadata": {},
   "outputs": [],
   "source": [
    "#This portion consist of user defined functions for different functions which are\n",
    "#later implemented in our deep neural network\n",
    "\n",
    "def sigmoid(Z):\n",
    "    A = 1/(1+np.exp(-Z))\n",
    "    cache = Z\n",
    "    return A, cache\n",
    "\n",
    "\n",
    "def relu(Z):\n",
    "    ''' The argument of this function is  Z ( output of the linear layer and it returns\n",
    "    A (the post activation parameter of the same shape as Z) and cache ( python dictionary containing\n",
    "    \"A\": stored for computing the backward pass efficiently)'''\n",
    "    A = np.maximum(0,Z)\n",
    "    assert(A.shape == Z.shape)\n",
    "    cache = Z \n",
    "    return A, cache\n",
    "\n",
    "\n",
    "def relu_backward(dA, cache):\n",
    "    '''here dA is post activation gradient , cache is 'Z' where we store for computing\n",
    "    backward propogation efficiently and it returns dZ which is the gradient of the cost \n",
    "    with respect to Z'''\n",
    "    Z = cache\n",
    "    dZ = np.array(dA, copy=True) # just converting dz to a correct object.\n",
    "    # When z <= 0, you should set dz to 0 as well. \n",
    "    dZ[Z <= 0] = 0\n",
    "    assert (dZ.shape == Z.shape)\n",
    "    return dZ\n",
    "\n",
    "\n",
    "\n",
    "def sigmoid_backward(dA, cache):\n",
    "    '''This function will implement the backward propagation for a single sigmoid unit.\n",
    "    The arguments of the function are dA ( post activation gradient) and cache ('Z' where we store for computing the\n",
    "    backward propaagaton efficiently. Similarly the function  returns dZ (Gradient of the cost\n",
    "     with respect to Z))'''\n",
    "    Z = cache\n",
    "    s = 1/(1+np.exp(-Z))\n",
    "    dZ = dA * s * (1-s)\n",
    "    assert (dZ.shape == Z.shape)\n",
    "    return dZ\n",
    "\n"
   ]
  },
  {
   "cell_type": "markdown",
   "metadata": {},
   "source": [
    "Now we will define the function linear_activation_forward which will perform the linear forward step followed by an activation forward step. Arguments of this function will be A_prev ( activation from the previous layer of shape ( size of previous layers, number of examples)), W, b, activation (the activation to be used in this layer, stored as a text string: \"sigmoid\" or \"relu\"). And the return values of the functions are A ( the output of the activation function, also called the post activation value) and cache (a python tuple containing \"linear_cache\"  and \"activation_cache\" stored for computing the backward pass efficiently"
   ]
  },
  {
   "cell_type": "code",
   "execution_count": 38,
   "metadata": {},
   "outputs": [],
   "source": [
    "def linear_activation_forward (A_prev, W, b, activation):\n",
    "    if activation=='sigmoid':\n",
    "        Z, linear_cache = linear_forward (A_prev,W,b)\n",
    "        A, activation_cache = sigmoid (Z)\n",
    "        \n",
    "    elif activation ==\"relu\":\n",
    "        Z, linear_cache = linear_forward( A_prev, W,b)\n",
    "        A, activation_cache = relu(Z)\n",
    "        \n",
    "    assert (A.shape == (W.shape[0], A_prev.shape[1]))\n",
    "    cache = (linear_cache, activation_cache)\n",
    "\n",
    "    return A, cache\n",
    "    "
   ]
  },
  {
   "cell_type": "markdown",
   "metadata": {},
   "source": [
    "Now we will define the function L_model_forward for implementing forward propagation \n",
    "for the (linear---> relu )* (L-1)----> linear--->sigmoid computation <br><n>\n",
    "    Arguments of the function are X ( data, nuumpy array of shape (input size,number of examples))\n",
    "    parameters (output of the function (initialize_parameters_deep()). Similarly, the \n",
    "    function returns AL ( last post activation value), caches ( list of caches containing \n",
    "    :every cache of linear_activation_forward() as there are L-1 of them, indexed from\n",
    "    0 to L-1)\n",
    "    "
   ]
  },
  {
   "cell_type": "code",
   "execution_count": 39,
   "metadata": {},
   "outputs": [],
   "source": [
    "#L_model_forward : function\n",
    "def L_model_forward (X, parameters):\n",
    "    caches=[]\n",
    "    A=X\n",
    "    L=len(parameters)//2  #number of layers in the neural network\n",
    "    #implementing linear----> relu*(L-1) and adding 'cache' to the 'caches' list\n",
    "    for l in range (1,L):\n",
    "        A_prev = A\n",
    "        A, cache = linear_activation_forward (A_prev, parameters['W'+str(l)],parameters['b'+str(l)],activation='relu')\n",
    "        caches.append (cache)\n",
    "    #implementing linear----> sigmoid and adding 'cache' to the 'caches' list\n",
    "    AL, cache = linear_activation_forward(A,parameters['W'+str(L)],parameters['b'+str(L)],activation='sigmoid')\n",
    "    caches.append(cache)\n",
    "    assert(AL.shape == (1,X.shape[1]))\n",
    "    return AL, caches\n",
    "        "
   ]
  },
  {
   "cell_type": "markdown",
   "metadata": {},
   "source": [
    "Till now we have a full forward propogation that takes input X and outputs a row vector \n",
    "$A^{[L]}$ containing our predictions. It also records all intermediate values in \"caches\" and now using \n",
    "$A^{[L]}$ we can compute cost function. For this we will define the function compute_cost\n",
    "that wiill have arguments as AL( probablity vector corresponding to our label predictions\n",
    ", shape (1,number of examples)), Y ( true label vector (for example containing 0 if non_cat, 1 if cat) with shape of (1, number of examples)). Similarly the function will return cost (cross entropy cost))\n"
   ]
  },
  {
   "cell_type": "code",
   "execution_count": 40,
   "metadata": {},
   "outputs": [],
   "source": [
    "def compute_cost (AL,Y):\n",
    "    m=Y.shape[1]\n",
    "    cost=-1/m*np.sum(np.multiply(Y,np.log(AL))+np.multiply(1-Y,np.log(1-AL)))\n",
    "    cost=np.squeeze(cost)\n",
    "    assert (cost.shape == ())\n",
    "    return cost"
   ]
  },
  {
   "cell_type": "markdown",
   "metadata": {},
   "source": [
    "Now we will defining other helper functions for backward propagation. For this, first we \n",
    "will do linear backward then linear---> activation backward where activation  computes the\n",
    "derivatives of either ReLU or sigmoid function and then finally we will perform:\n",
    "linear---> relu*(L-1)---->linear---sigmoid backward."
   ]
  },
  {
   "cell_type": "markdown",
   "metadata": {},
   "source": [
    "first we will define the function linear_backward which will take dZ( gradient of the cost with \n",
    "respect to the linear output of the layer (Layer l)) and cache (tuple of values (A_prev,W,b)\n",
    "coming from the forward propagation in the current layer. Similarly, the function will return \n",
    "dA_prev (gradient of the cost with respect to the activation( of the previous layer)\n",
    "l-1), dW (gradient of the cost with respect to W (current layer l),same shape as W) and db (\n",
    "Gradient of the cost with respect to b (current layer l), same shape as b)"
   ]
  },
  {
   "cell_type": "code",
   "execution_count": 48,
   "metadata": {},
   "outputs": [],
   "source": [
    "def linear_backward (dZ,cache):\n",
    "    A_prev, W, b= cache\n",
    "    m= A_prev.shape[1]\n",
    "    dW=(1/m)*np.dot(dZ,A_prev.T)\n",
    "    db=(1/m)*np.sum(dZ,axis=1, keepdims=True)\n",
    "    dA_prev=np.dot(W.T,dZ)\n",
    "    assert (dA_prev.shape== A_prev.shape)\n",
    "    assert (dW.shape==W.shape)\n",
    "    assert (db.shape==b.shape)\n",
    "    return dA_prev, dW, db"
   ]
  },
  {
   "cell_type": "code",
   "execution_count": 42,
   "metadata": {},
   "outputs": [],
   "source": [
    "#linear_activation_backward function for implementing the backward propagation for linear---->activation layer \n",
    "def linear_activation_backward (dA,cache,activation):\n",
    "    linear_cache, activation_cache = cache\n",
    "    if activation == \"relu\":\n",
    "        dZ=relu_backward(dA,cache[1])\n",
    "        dA_prev, dW,db = linear_backward (dZ,linear_cache)\n",
    "    elif activation == \"sigmoid\":\n",
    "        dZ=sigmoid_backward (dA,cache[1])\n",
    "        dA_prev, dW, db = linear_backward (dZ,linear_cache)\n",
    "    return dA_prev, dW, db\n",
    "        "
   ]
  },
  {
   "cell_type": "markdown",
   "metadata": {},
   "source": [
    "# L-model backward\n",
    "Before, when we had implemented the backward function, we has stored a cache which contains (X,W,b and z) In the back propagation module we will use those variables to compute gradients. \n",
    "Therefore in L_model_backward function we will iterate through all the hidden layers backward \n",
    ", starting from layer L. On each step we will be using the cached value for the layer l to \n",
    "propogate through layer l."
   ]
  },
  {
   "cell_type": "markdown",
   "metadata": {},
   "source": [
    "Now we will define a function L_model_backward for implementing the backward propagation for \n",
    "the linear--->relu*(L-1)--->linear---->sigmoid. Arguments of the function are\n",
    "AL ( probablity vector, output of the forward propagation (L_model_forward)), Y( true label vector)  and caches ( list of every caches containing : every caches of linear_activaton_forward() with relu and the cache of linear_activation_forward () with 'sigmoid'). Similarly the function will return grads (A dictionary with the gradients dA,dW,db)"
   ]
  },
  {
   "cell_type": "code",
   "execution_count": 43,
   "metadata": {},
   "outputs": [],
   "source": [
    "def L_model_backward(AL,Y,caches):\n",
    "    grads={}\n",
    "    L=len (caches) # the number of layers \n",
    "    m= AL.shape[1]\n",
    "    Y=Y.reshape(AL.shape)\n",
    "    dAL=-(np.divide(Y,AL)-np.divide(1-Y,1-AL))\n",
    "    #L th layer (sigmoid--->linear)gradients \n",
    "    current_cache=caches[L-1]\n",
    "    grads[\"dA\"+str(L-1)],grads[\"dW\" + str(L)], grads[\"db\" + str(L)] = linear_activation_backward(dAL,current_cache,activation=\"sigmoid\")\n",
    "    for l in reversed(range(L-1)):\n",
    "        #l th layer: relu--->linear gradients\n",
    "        current_cache = cache [l]\n",
    "        dA_prev_temp, dW_temp, db_temp = linear_activation_backward(grads['dA'+str(l+1)],current_cache,'relu')\n",
    "        grads[\"dA\"+str(l)]=dA_prev_temp\n",
    "        grads[\"dW\"+str(l+1)]=dW_temp\n",
    "        grads[\"db\"+str(l+1)]=db_temp\n",
    "    return grads\n",
    "          "
   ]
  },
  {
   "cell_type": "markdown",
   "metadata": {},
   "source": [
    "Now we will update the parameters of our model by using gradient descent and we will store them the parameters dictionary. For this we will define the function update_parameters which will take parameters ( python dictionary containing our parameters ), grads ( python dictionary containing our gradients)  and learning rate. Similarly, it will return  parameters (python dictionary containing our \n",
    "updated parameters)"
   ]
  },
  {
   "cell_type": "code",
   "execution_count": 44,
   "metadata": {},
   "outputs": [],
   "source": [
    "def update_parameters (parameters, grads, learning_rate):\n",
    "    L= len(parameters) // 2 #number of layers in the neural network\n",
    "    for l in range(L):\n",
    "        parameters[\"W\" + str(l+1)] = parameters[\"W\"+str(l+1)]-grads[\"dW\"+str(l+1)]*learning_rate\n",
    "        parameters[\"b\" + str(l+1)] = parameters[\"b\"+str(l+1)]-grads['db'+str(l+1)]*learning_rate\n",
    "    return parameters \n",
    "    "
   ]
  },
  {
   "cell_type": "markdown",
   "metadata": {},
   "source": [
    "Now we will use the helper functions defined till now to build a two layered neural network \n",
    "with the structure as linear--> relu-----> linear----> sigmoid "
   ]
  },
  {
   "cell_type": "code",
   "execution_count": 45,
   "metadata": {},
   "outputs": [],
   "source": [
    "# we will define few constants to implement our model\n",
    "n_x = 12288\n",
    "n_h = 7\n",
    "n_y = 1\n",
    "layers_dims = (n_x, n_h, n_y)"
   ]
  },
  {
   "cell_type": "code",
   "execution_count": 46,
   "metadata": {},
   "outputs": [],
   "source": [
    "# two_layer_model function \n",
    "def two_layer_model (X,Y,layer_dims, learning_rate=0.0065,num_iterations=3500, print_cost=False):\n",
    "    np.random.seed(1)\n",
    "    grads={}\n",
    "    costs=[]\n",
    "    m=X.shape[1]\n",
    "    (n_x,n_h,n_y)=layer_dims\n",
    "    parameters= initialize_parameters(n_x,n_h,n_y)\n",
    "    W1 = parameters[\"W1\"]\n",
    "    b1 = parameters[\"b1\"]\n",
    "    W2 = parameters[\"W2\"]\n",
    "    b2 = parameters[\"b2\"]\n",
    "    \n",
    "    #LOOP FOR GRADIENT DESCENT \n",
    "    \n",
    "    for i in range (0, num_iterations):\n",
    "        A1,cache1=linear_activation_forward(X,W1,b1,activation='relu')\n",
    "        A2,cache2=linear_activation_forward(A1,W2,b2,activation=\"sigmoid\")\n",
    "        cost=compute_cost(A2,Y)\n",
    "        dA2 = - (np.divide(Y, A2) - np.divide(1 - Y, 1 - A2))\n",
    "        dA1, dW2, db2 = linear_activation_backward(dA2,cache2,activation='sigmoid')\n",
    "        dA0, dW1, db1 = linear_activation_backward(dA1,cache1,activation='relu')\n",
    "        grads['dW1'] = dW1\n",
    "        grads['db1'] = db1\n",
    "        grads['dW2'] = dW2\n",
    "        grads['db2'] = db2\n",
    "        parameters = update_parameters(parameters,grads,learning_rate)\n",
    "        W1 = parameters[\"W1\"]\n",
    "        b1 = parameters[\"b1\"]\n",
    "        W2 = parameters[\"W2\"]\n",
    "        b2 = parameters[\"b2\"]\n",
    "        if print_cost and i % 100 == 0:\n",
    "            print(\"Cost after iteration {}: {}\".format(i, np.squeeze(cost)))\n",
    "        if print_cost and i % 100 == 0:\n",
    "            costs.append(cost)\n",
    "            \n",
    "        #plot the cost\n",
    "        plt.plot (np.squeeze(costs))\n",
    "        plt.xlabel(\"iterations after 100 iterations each\")\n",
    "        plt.ylabel(\"cost\")\n",
    "        plt.title(\"learning rate=\"+ str (learning_rate))\n",
    "        plt.show\n",
    "        \n",
    "        return parameters"
   ]
  },
  {
   "cell_type": "code",
   "execution_count": 50,
   "metadata": {},
   "outputs": [
    {
     "name": "stdout",
     "output_type": "stream",
     "text": [
      "Cost after iteration 0: 0.693049735659989\n"
     ]
    },
    {
     "data": {
      "image/png": "[encoded data removed]",
      "text/plain": [
       "<Figure size 360x288 with 1 Axes>"
      ]
     },
     "metadata": {
      "needs_background": "light"
     },
     "output_type": "display_data"
    }
   ],
   "source": [
    "parameters = two_layer_model (train_set_x,train_set_y, layer_dims= (n_x,n_h,n_y),num_iterations=200, print_cost=True)"
   ]
  },
  {
   "cell_type": "code",
   "execution_count": null,
   "metadata": {},
   "outputs": [],
   "source": []
  }
 ],
 "metadata": {
  "kernelspec": {
   "display_name": "Python 3",
   "language": "python",
   "name": "python3"
  },
  "language_info": {
   "codemirror_mode": {
    "name": "ipython",
    "version": 3
   },
   "file_extension": ".py",
   "mimetype": "text/x-python",
   "name": "python",
   "nbconvert_exporter": "python",
   "pygments_lexer": "ipython3",
   "version": "3.8.3"
  }
 },
 "nbformat": 4,
 "nbformat_minor": 4
}
